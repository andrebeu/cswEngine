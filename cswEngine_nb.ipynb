{
 "cells": [
  {
   "cell_type": "code",
   "execution_count": 559,
   "metadata": {},
   "outputs": [
    {
     "name": "stdout",
     "output_type": "stream",
     "text": [
      "The autoreload extension is already loaded. To reload it, use:\n",
      "  %reload_ext autoreload\n"
     ]
    }
   ],
   "source": [
    "import re\n",
    "import json\n",
    "from numpy import random\n",
    "\n",
    "from cswEngine import *\n",
    "%load_ext autoreload\n",
    "%reload_ext autoreload\n",
    "%autoreload 2"
   ]
  },
  {
   "cell_type": "code",
   "execution_count": 749,
   "metadata": {},
   "outputs": [],
   "source": [
    "RFC_bag = get_RFC_bag('subject and victim')\n",
    "exp = Exp(RFC_bag)\n",
    "node_seq,RFC = exp.gen_path()"
   ]
  },
  {
   "cell_type": "code",
   "execution_count": 754,
   "metadata": {},
   "outputs": [
    {
     "name": "stdout",
     "output_type": "stream",
     "text": [
      "making 3 scripts with 5 stories to:\n",
      " /Users/abeukers/wd/csw/experiments/task_scripts/\n"
     ]
    }
   ],
   "source": [
    "from cswMturk import write_N_mturk_taskscripts\n",
    "write_N_mturk_taskscripts(3,5)"
   ]
  },
  {
   "cell_type": "code",
   "execution_count": 752,
   "metadata": {},
   "outputs": [
    {
     "name": "stdout",
     "output_type": "stream",
     "text": [
      "subject-Adam_victim-Bill\n",
      "subject-Adam_victim-Silvia\n",
      "subject-Olivia_victim-Silvia\n",
      "subject-Olivia_victim-Bill\n"
     ]
    }
   ],
   "source": [
    "for RFC in RFC_bag:\n",
    "  print(RFC)"
   ]
  },
  {
   "cell_type": "code",
   "execution_count": 748,
   "metadata": {},
   "outputs": [],
   "source": [
    "for role,filler in RFC.items():\n",
    "  role,filler['name']"
   ]
  },
  {
   "cell_type": "code",
   "execution_count": 738,
   "metadata": {},
   "outputs": [
    {
     "name": "stdout",
     "output_type": "stream",
     "text": [
      "BEGIN\n",
      "{'subject': {'name': 'Adam', 'violent': 'True'}, 'victim': {'name': 'Silvia', 'violent': 'True', 'emotion': 'rage2', 'yell': 'I hate coffee2!', 'type': 'doctor'}, 'setting': {'name': \"Joe's coffee shop\"}, 'drink1': {'name': 'black tea'}, 'drink2': {'name': 'coffee'}, 'drink3': {'name': 'black tea'}, 'dessert': {'name': 'cookie'}}\n",
      "CUTLINE\n",
      "CUTBACK\n",
      "SUBJECTSTARES\n",
      "XSTARE\n",
      "DRINKSPLASH\n",
      "{'subject': {'name': 'Adam', 'violent': 'True'}, 'victim': {'name': 'Silvia', 'violent': 'True', 'emotion': 'rage2', 'yell': 'I hate coffee2!', 'type': 'doctor'}, 'setting': {'name': \"Joe's coffee shop\"}, 'drink1': {'name': 'black tea'}, 'drink2': {'name': 'coffee'}, 'drink3': {'name': 'black tea'}, 'dessert': {'name': 'cookie'}}\n",
      "POLICEORDERS\n",
      "{'subject': {'name': 'Adam', 'violent': 'True'}, 'victim': {'name': 'Silvia', 'violent': 'True', 'emotion': 'rage2', 'yell': 'I hate coffee2!', 'type': 'doctor'}, 'setting': {'name': \"Joe's coffee shop\"}, 'drink1': {'name': 'black tea'}, 'drink2': {'name': 'coffee'}, 'drink3': {'name': 'black tea'}, 'dessert': {'name': 'cookie'}}\n",
      "LOVEJUICE\n",
      "END\n"
     ]
    }
   ],
   "source": [
    "node_seq,RFC = exp.gen_path()\n",
    "for n in node_seq:\n",
    "  if n.type == 'story_node':\n",
    "    print(n.name)\n",
    "  if n.type == 'fillerQ':\n",
    "    print(n)\n",
    "  if n.type == 'transQ':\n",
    "    print(n.true_RFC)"
   ]
  },
  {
   "cell_type": "code",
   "execution_count": 708,
   "metadata": {},
   "outputs": [
    {
     "data": {
      "text/plain": [
       "[NodeObj.BEGIN,\n",
       " NodeObj.STEPFOOT,\n",
       " NodeObj.EXCUSEME,\n",
       " NodeObj.SHOVE,\n",
       " transQ_SHOVE-XSTARE_SHOVE-YELL,\n",
       " NodeObj.XSTARE,\n",
       " fillerQ_XSTARE-DRINKSPLASH_XSTARE-DRINKSPLASH,\n",
       " NodeObj.DRINKSPLASH,\n",
       " transQ_DRINKSPLASH-POLICEORDERS_DRINKSPLASH-BARISTAORDERS,\n",
       " NodeObj.POLICEORDERS,\n",
       " transQ_POLICEORDERS-LOVEJUICE_POLICEORDERS-HATECOFFEE,\n",
       " NodeObj.LOVEJUICE,\n",
       " NodeObj.END]"
      ]
     },
     "execution_count": 708,
     "metadata": {},
     "output_type": "execute_result"
    }
   ],
   "source": [
    "node_seq"
   ]
  }
 ],
 "metadata": {
  "kernelspec": {
   "display_name": "Python 3",
   "language": "python",
   "name": "python3"
  },
  "language_info": {
   "codemirror_mode": {
    "name": "ipython",
    "version": 3
   },
   "file_extension": ".py",
   "mimetype": "text/x-python",
   "name": "python",
   "nbconvert_exporter": "python",
   "pygments_lexer": "ipython3",
   "version": "3.6.1"
  }
 },
 "nbformat": 4,
 "nbformat_minor": 2
}
