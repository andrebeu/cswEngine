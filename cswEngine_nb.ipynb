{
 "cells": [
  {
   "cell_type": "code",
   "execution_count": 550,
   "metadata": {},
   "outputs": [
    {
     "name": "stdout",
     "output_type": "stream",
     "text": [
      "The autoreload extension is already loaded. To reload it, use:\n",
      "  %reload_ext autoreload\n"
     ]
    }
   ],
   "source": [
    "import re\n",
    "import json\n",
    "from numpy import random\n",
    "\n",
    "from cswEngine import *\n",
    "%load_ext autoreload\n",
    "%reload_ext autoreload\n",
    "%autoreload 2"
   ]
  },
  {
   "cell_type": "code",
   "execution_count": 551,
   "metadata": {},
   "outputs": [],
   "source": [
    "path,RFC = Exp(RFC_bag=get_RFC_bag('subject and victim')).gen_path()\n"
   ]
  },
  {
   "cell_type": "code",
   "execution_count": 553,
   "metadata": {},
   "outputs": [
    {
     "data": {
      "text/plain": [
       "\"One morning, Olivia walked into Joe's coffee shop.\""
      ]
     },
     "execution_count": 553,
     "metadata": {},
     "output_type": "execute_result"
    }
   ],
   "source": [
    "path[0].get_filled_state(RFC)"
   ]
  },
  {
   "cell_type": "markdown",
   "metadata": {},
   "source": [
    "for n in path:\n",
    "  if n.type == 'story_node':\n",
    "    print(n.get_filled_state(RFC))\n",
    "    \n"
   ]
  },
  {
   "cell_type": "code",
   "execution_count": 545,
   "metadata": {},
   "outputs": [
    {
     "data": {
      "text/plain": [
       "\"Adam splashed a coffee into Silvia's face.\""
      ]
     },
     "execution_count": 545,
     "metadata": {},
     "output_type": "execute_result"
    }
   ],
   "source": [
    "# filled_state = self.state\n",
    "# filled_state = sent\n",
    "role_property_L = re.findall(\"\\[.*?\\]\",filled_state)\n",
    "for rp in role_property_L:\n",
    "  r,p = rp[1:-1].split('.')\n",
    "  filled_state = re.sub(\"\\\\\"+rp,RFC[r][p],filled_state)\n"
   ]
  },
  {
   "cell_type": "code",
   "execution_count": 539,
   "metadata": {},
   "outputs": [
    {
     "data": {
      "text/plain": [
       "\"Silvia splashed a [drink1.name] into [victim.name]'s face.\""
      ]
     },
     "execution_count": 539,
     "metadata": {},
     "output_type": "execute_result"
    }
   ],
   "source": [
    "sent = \"[subject.name] splashed a [drink1.name] into [victim.name]'s face.\"\n",
    "\n",
    "re.sub(\"\\[subject.name\\]\",\"Silvia\",sent,1)\n",
    "# filled_state"
   ]
  },
  {
   "cell_type": "code",
   "execution_count": null,
   "metadata": {
    "collapsed": true
   },
   "outputs": [],
   "source": []
  },
  {
   "cell_type": "code",
   "execution_count": 129,
   "metadata": {},
   "outputs": [],
   "source": [
    "schema_role_fillers_D = read_json('fight.roles')['schema_role_fillers']\n",
    "filler_properties_D = read_json('fight.roles')['filler_properties']"
   ]
  },
  {
   "cell_type": "code",
   "execution_count": 280,
   "metadata": {},
   "outputs": [
    {
     "data": {
      "text/plain": [
       "{'coffee': {'name': 'coffee'},\n",
       " 'dessert1': {'name': 'cookie'},\n",
       " 'dessert2': {'name': 'cake'},\n",
       " 'person1': {'emotion': 'rage',\n",
       "  'name': 'Bill',\n",
       "  'type': 'nurse',\n",
       "  'violent': 'True',\n",
       "  'yell': 'I hate coffee!'},\n",
       " 'person2': {'emotion': 'rage2',\n",
       "  'name': 'Silvia',\n",
       "  'type': 'doctor',\n",
       "  'violent': 'True',\n",
       "  'yell': 'I hate coffee2!'},\n",
       " 'person3': {'name': 'Adam', 'violent': 'True'},\n",
       " 'person4': {'name': 'Olivia', 'violent': 'False'},\n",
       " 'setting1': {'name': \"Joe's coffee shop\"},\n",
       " 'tea1': {'name': 'green tea'},\n",
       " 'tea2': {'name': 'black tea'}}"
      ]
     },
     "execution_count": 280,
     "metadata": {},
     "output_type": "execute_result"
    }
   ],
   "source": [
    "filler_properties_D"
   ]
  },
  {
   "cell_type": "code",
   "execution_count": 159,
   "metadata": {},
   "outputs": [
    {
     "data": {
      "text/plain": [
       "{'dessert': ['dessert1', 'dessert2'],\n",
       " 'drink1': ['tea1', 'tea2', 'coffee'],\n",
       " 'drink2': ['tea1', 'tea2', 'coffee'],\n",
       " 'drink3': ['tea1', 'tea2', 'coffee'],\n",
       " 'setting': ['setting1'],\n",
       " 'subject': ['person3', 'person4'],\n",
       " 'victim': ['person1', 'person2']}"
      ]
     },
     "execution_count": 159,
     "metadata": {},
     "output_type": "execute_result"
    }
   ],
   "source": [
    "schema_role_fillers_D"
   ]
  },
  {
   "cell_type": "code",
   "execution_count": 491,
   "metadata": {},
   "outputs": [
    {
     "name": "stdout",
     "output_type": "stream",
     "text": [
      "[subject.name]\n",
      "[drink1.name]\n",
      "[victim.name]\n"
     ]
    }
   ],
   "source": [
    "sent = \"[subject.name] splashed a [drink1.name] into [victim.name]'s face.\"\n",
    "role_property_L = re.findall(\"\\[.*?\\]\",sent,0)\n",
    "\n",
    "# for r,p in list(map(lambda x: x[1:-1].split('.'), role_property_L)):\n",
    "for rp in role_property_L:\n",
    "  print(rp)\n"
   ]
  },
  {
   "cell_type": "code",
   "execution_count": 284,
   "metadata": {},
   "outputs": [],
   "source": [
    "def make_RFC_bag_full(schema_role_fillers_D,filler_properties_D):\n",
    "  \"\"\" makes every possible RFC\n",
    "  role_filler_str_L: [[\"role1-filler1\",\"role1-filler2\"],[\"role2-filler1\",\"role2-filler2\"]...]\n",
    "  all_role_fillers: [(\"role1-filler1\",\"role2-filler1\"),(\"role1-filler2\",\"role2-filler2\")]\n",
    "  RFC_str: {'role':'filler',}\n",
    "  which I can pass to get_filler_properties, \n",
    "  \"\"\"\n",
    "  # 1 make_role_filler_str_L\n",
    "  role_filler_str_L = []\n",
    "  for role,filler_L in schema_role_fillers_D.items():\n",
    "    role_L = []\n",
    "    for filler in filler_L:\n",
    "      role_filler_str = \"%s-%s\"%(role,filler)\n",
    "      role_L.append(role_filler_str)\n",
    "    role_filler_str_L.append(role_L)\n",
    "  # 2 all_role_filers\n",
    "  all_RFC_tups = list(itertools.product(*role_filler_str_L))\n",
    "  # 3 RFC_str\n",
    "  RFC_bag = []\n",
    "  for RFC_str_tup in all_RFC_tups:\n",
    "    RFC_str = {rf_str.split('-')[0]:rf_str.split('-')[1] for rf_str in RFC_str_tup}\n",
    "    RFC = get_filler_properties(RFC_str,filler_properties_D) \n",
    "    RFC_bag.append(RFC)\n",
    "  return RFC_bag\n",
    "\n",
    "\n",
    "RFC_bag_full = make_RFC_bag_full(schema_role_fillers_D,filler_properties_D)"
   ]
  },
  {
   "cell_type": "markdown",
   "metadata": {},
   "source": [
    "one aggresive subject, one non aggressive subject, two victims\n",
    "Olivia Adam Bill Silvia"
   ]
  },
  {
   "cell_type": "code",
   "execution_count": 419,
   "metadata": {},
   "outputs": [
    {
     "name": "stdout",
     "output_type": "stream",
     "text": [
      "0\n",
      "1\n",
      "0\n",
      "1\n"
     ]
    }
   ],
   "source": [
    "for i,j in set(itertools.permutations([0,0,1,1],2)):\n",
    "  print(i,j)"
   ]
  },
  {
   "cell_type": "code",
   "execution_count": 440,
   "metadata": {},
   "outputs": [
    {
     "name": "stdout",
     "output_type": "stream",
     "text": [
      "Bill Olivia\n",
      "Silvia Olivia\n"
     ]
    }
   ],
   "source": [
    "RFC_bag = []\n",
    "vict_names = ['Bill','Silvia']\n",
    "subj_names = ['Adam','Olivia']\n",
    "random.shuffle(subj_names)\n",
    "\n",
    "for i in [0,1]:\n",
    "  for RFC in RFC_bag_full:\n",
    "    if RFC['subject']['name'] == subj_names[0]: \n",
    "        if RFC['victim']['name'] == vict_names[i]:\n",
    "          RFC_bag.append(RFC)\n",
    "          break\n",
    "        \n",
    "for RFC in RFC_bag:\n",
    "  print(RFC['victim']['name'],RFC['subject']['name'])"
   ]
  },
  {
   "cell_type": "code",
   "execution_count": 344,
   "metadata": {},
   "outputs": [
    {
     "name": "stdout",
     "output_type": "stream",
     "text": [
      "Adam\n",
      "Olivia\n"
     ]
    },
    {
     "data": {
      "text/plain": [
       "[{'dessert': {'name': 'cake'},\n",
       "  'drink1': {'name': 'green tea'},\n",
       "  'drink2': {'name': 'green tea'},\n",
       "  'drink3': {'name': 'green tea'},\n",
       "  'setting': {'name': \"Joe's coffee shop\"},\n",
       "  'subject': {'name': 'Adam', 'violent': 'True'},\n",
       "  'victim': {'emotion': 'rage',\n",
       "   'name': 'Bill',\n",
       "   'type': 'nurse',\n",
       "   'violent': 'True',\n",
       "   'yell': 'I hate coffee!'}},\n",
       " {'dessert': {'name': 'cake'},\n",
       "  'drink1': {'name': 'green tea'},\n",
       "  'drink2': {'name': 'black tea'},\n",
       "  'drink3': {'name': 'coffee'},\n",
       "  'setting': {'name': \"Joe's coffee shop\"},\n",
       "  'subject': {'name': 'Olivia', 'violent': 'False'},\n",
       "  'victim': {'emotion': 'rage2',\n",
       "   'name': 'Silvia',\n",
       "   'type': 'doctor',\n",
       "   'violent': 'True',\n",
       "   'yell': 'I hate coffee2!'}}]"
      ]
     },
     "execution_count": 344,
     "metadata": {},
     "output_type": "execute_result"
    }
   ],
   "source": [
    "def get_poor_filled_bag(RFC_bag_full):\n",
    "  random.shuffle(RFC_bag_full)\n",
    "  RFC_bag = []\n",
    "  names_L = ['Olivia','Adam','Bill','Silvia']\n",
    "  random.shuffle(names_L)\n",
    "  for name in names_L:\n",
    "    for RFC in RFC_bag_full:\n",
    "      if RFC['subject']['name'] == name:\n",
    "        RFC_bag.append(RFC)\n",
    "        print(name)\n",
    "        break\n",
    "  return RFC_bag\n",
    "get_poor_filled_bag(RFC_bag_full)"
   ]
  },
  {
   "cell_type": "code",
   "execution_count": null,
   "metadata": {
    "collapsed": true
   },
   "outputs": [],
   "source": []
  }
 ],
 "metadata": {
  "kernelspec": {
   "display_name": "Python 3",
   "language": "python",
   "name": "python3"
  },
  "language_info": {
   "codemirror_mode": {
    "name": "ipython",
    "version": 3
   },
   "file_extension": ".py",
   "mimetype": "text/x-python",
   "name": "python",
   "nbconvert_exporter": "python",
   "pygments_lexer": "ipython3",
   "version": "3.6.1"
  }
 },
 "nbformat": 4,
 "nbformat_minor": 2
}
