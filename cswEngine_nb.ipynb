{
 "cells": [
  {
   "cell_type": "code",
   "execution_count": 10,
   "metadata": {},
   "outputs": [
    {
     "name": "stdout",
     "output_type": "stream",
     "text": [
      "The autoreload extension is already loaded. To reload it, use:\n",
      "  %reload_ext autoreload\n"
     ]
    }
   ],
   "source": [
    "import re\n",
    "import json\n",
    "from numpy import random\n",
    "\n",
    "from cswEngine import *\n",
    "from cswMturk import *\n",
    "import cswTests\n",
    "%load_ext autoreload\n",
    "%reload_ext autoreload\n",
    "%autoreload 2"
   ]
  },
  {
   "cell_type": "code",
   "execution_count": 27,
   "metadata": {},
   "outputs": [
    {
     "data": {
      "text/plain": [
       "{1: 0.3, 2: 0.1, 3: 0.2}"
      ]
     },
     "execution_count": 27,
     "metadata": {},
     "output_type": "execute_result"
    }
   ],
   "source": [
    "from collections import Counter\n",
    "c = Counter([1,2,1,1,3,3])\n",
    "{k:v/10 for k,v in c.items()}\n"
   ]
  },
  {
   "cell_type": "code",
   "execution_count": 36,
   "metadata": {},
   "outputs": [
    {
     "data": {
      "text/plain": [
       "[(1, 3), (3, 2), (2, 1)]"
      ]
     },
     "execution_count": 36,
     "metadata": {},
     "output_type": "execute_result"
    }
   ],
   "source": [
    "c.most_common()"
   ]
  },
  {
   "cell_type": "code",
   "execution_count": 49,
   "metadata": {},
   "outputs": [],
   "source": [
    "exp = cswEngine.Exp()\n",
    "node_seq_L,RFC_L = exp.gen_k_paths(10)"
   ]
  },
  {
   "cell_type": "markdown",
   "metadata": {},
   "source": [
    "of the rfcs where adam was subject\n"
   ]
  },
  {
   "cell_type": "code",
   "execution_count": 55,
   "metadata": {},
   "outputs": [],
   "source": [
    "cond = 'subject','name','Adam'"
   ]
  },
  {
   "cell_type": "code",
   "execution_count": 67,
   "metadata": {},
   "outputs": [
    {
     "name": "stdout",
     "output_type": "stream",
     "text": [
      "a\n"
     ]
    }
   ],
   "source": [
    "if [True,False,True]:\n",
    "  print('a')"
   ]
  },
  {
   "cell_type": "code",
   "execution_count": 97,
   "metadata": {},
   "outputs": [
    {
     "data": {
      "text/plain": [
       "{'BARISTAORDERS': 0.32,\n",
       " 'BEGIN': 1.0,\n",
       " 'CUTBACK': 0.8,\n",
       " 'CUTLINE': 0.8,\n",
       " 'DESERTCRUMBLE': 0.2,\n",
       " 'DRINKSPLASH': 0.8,\n",
       " 'END': 1.0,\n",
       " 'EXCUSEME': 0.2,\n",
       " 'HATECOFFEE': 0.19,\n",
       " 'LOVEJUICE': 0.81,\n",
       " 'POLICEORDERS': 0.68,\n",
       " 'SHOVE': 0.8,\n",
       " 'STEPFOOT': 0.2,\n",
       " 'SUBJECTSTARES': 0.2,\n",
       " 'XSTARE': 0.8,\n",
       " 'YELL': 0.2}"
      ]
     },
     "execution_count": 97,
     "metadata": {},
     "output_type": "execute_result"
    }
   ],
   "source": [
    "cond = \"subject\",'name','Adam'\n",
    "n,nr = cswTests.count_node_rfc(5000,cond)\n",
    "n"
   ]
  },
  {
   "cell_type": "code",
   "execution_count": 98,
   "metadata": {},
   "outputs": [
    {
     "data": {
      "text/plain": [
       "{'BARISTAORDERS': 0.33,\n",
       " 'BEGIN': 1.0,\n",
       " 'CUTBACK': 0.21,\n",
       " 'CUTLINE': 0.21,\n",
       " 'DESERTCRUMBLE': 0.8,\n",
       " 'DRINKSPLASH': 0.2,\n",
       " 'END': 1.0,\n",
       " 'EXCUSEME': 0.79,\n",
       " 'HATECOFFEE': 0.8,\n",
       " 'LOVEJUICE': 0.2,\n",
       " 'POLICEORDERS': 0.67,\n",
       " 'SHOVE': 0.2,\n",
       " 'STEPFOOT': 0.79,\n",
       " 'SUBJECTSTARES': 0.8,\n",
       " 'XSHOVE': 0.81,\n",
       " 'YELL': 0.19}"
      ]
     },
     "execution_count": 98,
     "metadata": {},
     "output_type": "execute_result"
    }
   ],
   "source": [
    "cond = \"subject\",'name','Olivia'\n",
    "n,nr = cswTests.count_node_rfc(5000,cond)\n",
    "n"
   ]
  },
  {
   "cell_type": "code",
   "execution_count": null,
   "metadata": {},
   "outputs": [],
   "source": [
    "exp = Exp()\n",
    "node_seq,RFC = exp.gen_path()\n",
    "for n in node_seq:\n",
    "  if n.type == 'story_node':\n",
    "    print(n.name)\n",
    "  if n.type == 'fillerQ':\n",
    "    print(n.false_RFC)\n",
    "  if n.type == 'transQ':\n",
    "    print(n.true_RFC)"
   ]
  }
 ],
 "metadata": {
  "kernelspec": {
   "display_name": "Python 3",
   "language": "python",
   "name": "python3"
  },
  "language_info": {
   "codemirror_mode": {
    "name": "ipython",
    "version": 3
   },
   "file_extension": ".py",
   "mimetype": "text/x-python",
   "name": "python",
   "nbconvert_exporter": "python",
   "pygments_lexer": "ipython3",
   "version": "3.6.1"
  }
 },
 "nbformat": 4,
 "nbformat_minor": 2
}
